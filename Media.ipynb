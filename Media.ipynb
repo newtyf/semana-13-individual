{
  "nbformat": 4,
  "nbformat_minor": 0,
  "metadata": {
    "colab": {
      "provenance": [],
      "authorship_tag": "ABX9TyOuXQqIGOxpgs7h1IctOfeL",
      "include_colab_link": true
    },
    "kernelspec": {
      "name": "python3",
      "display_name": "Python 3"
    },
    "language_info": {
      "name": "python"
    }
  },
  "cells": [
    {
      "cell_type": "markdown",
      "metadata": {
        "id": "view-in-github",
        "colab_type": "text"
      },
      "source": [
        "<a href=\"https://colab.research.google.com/github/newtyf/semana-13-individual/blob/master/Media.ipynb\" target=\"_parent\"><img src=\"https://colab.research.google.com/assets/colab-badge.svg\" alt=\"Open In Colab\"/></a>"
      ]
    },
    {
      "cell_type": "code",
      "execution_count": null,
      "metadata": {
        "id": "_oF7jOkTmnlU"
      },
      "outputs": [],
      "source": [
        "from pyspark.sql import SparkSession\n",
        "\n",
        "from pyspark.sql.functions import col, expr, mean, corr"
      ]
    },
    {
      "cell_type": "code",
      "source": [
        "spark = SparkSession.builder.appName(\"analisis-red-social\").getOrCreate()"
      ],
      "metadata": {
        "id": "HV6Fv_yznnUK"
      },
      "execution_count": null,
      "outputs": []
    },
    {
      "cell_type": "code",
      "source": [
        "# Cargamos la informacion de un csv\n",
        "df = spark.read.csv(\"posts-data.csv\", header=True)"
      ],
      "metadata": {
        "id": "6pzegqcmnn4Q"
      },
      "execution_count": null,
      "outputs": []
    },
    {
      "cell_type": "markdown",
      "source": [
        "# Media de likes en posts\n",
        "\n"
      ],
      "metadata": {
        "id": "ZuHeT3wUoWWJ"
      }
    },
    {
      "cell_type": "code",
      "source": [
        "df.select(mean(col(\"likes_count\")).alias(\"Media\")).show()"
      ],
      "metadata": {
        "colab": {
          "base_uri": "https://localhost:8080/"
        },
        "id": "SF--97MDoUnY",
        "outputId": "0f40dc0d-ca0c-44a9-f6c2-e78a1b6fc4ed"
      },
      "execution_count": null,
      "outputs": [
        {
          "output_type": "stream",
          "name": "stdout",
          "text": [
            "+-------+\n",
            "|  Media|\n",
            "+-------+\n",
            "|508.186|\n",
            "+-------+\n",
            "\n"
          ]
        }
      ]
    }
  ]
}