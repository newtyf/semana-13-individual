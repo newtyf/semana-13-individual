{
  "nbformat": 4,
  "nbformat_minor": 0,
  "metadata": {
    "colab": {
      "provenance": [],
      "authorship_tag": "ABX9TyNC9WCGAiLoiKswLTvM9Dnd",
      "include_colab_link": true
    },
    "kernelspec": {
      "name": "python3",
      "display_name": "Python 3"
    },
    "language_info": {
      "name": "python"
    }
  },
  "cells": [
    {
      "cell_type": "markdown",
      "metadata": {
        "id": "view-in-github",
        "colab_type": "text"
      },
      "source": [
        "<a href=\"https://colab.research.google.com/github/newtyf/semana-13-individual/blob/master/Moda.ipynb\" target=\"_parent\"><img src=\"https://colab.research.google.com/assets/colab-badge.svg\" alt=\"Open In Colab\"/></a>"
      ]
    },
    {
      "cell_type": "code",
      "execution_count": null,
      "metadata": {
        "id": "VFb2GzBrykfI"
      },
      "outputs": [],
      "source": [
        "from pyspark.sql import SparkSession\n",
        "\n",
        "from pyspark.sql.functions import col, expr, mean, corr"
      ]
    },
    {
      "cell_type": "code",
      "source": [
        "spark = SparkSession.builder.appName(\"estadistica\").getOrCreate()"
      ],
      "metadata": {
        "id": "GefR98OFyva0"
      },
      "execution_count": null,
      "outputs": []
    },
    {
      "cell_type": "code",
      "source": [
        "# Cargamos la informacion de un csv\n",
        "df = spark.read.csv(\"posts-data.csv\", header=True)"
      ],
      "metadata": {
        "id": "HDeDLh2wy5FL"
      },
      "execution_count": null,
      "outputs": []
    },
    {
      "cell_type": "markdown",
      "source": [
        "# Moda de likes en posts"
      ],
      "metadata": {
        "id": "4mcdachLyzFD"
      }
    },
    {
      "cell_type": "code",
      "source": [
        "var_moda = df.groupBy(\"likes_count\").count().orderBy(col(\"count\").desc()).first()\n",
        "\n",
        "print(\"La moda es:\", var_moda[\"likes_count\"])"
      ],
      "metadata": {
        "colab": {
          "base_uri": "https://localhost:8080/"
        },
        "id": "6BK1DLAhywNv",
        "outputId": "517eade6-2f93-490e-bde3-aaad59e20f4c"
      },
      "execution_count": null,
      "outputs": [
        {
          "output_type": "stream",
          "name": "stdout",
          "text": [
            "La moda es: 575\n"
          ]
        }
      ]
    },
    {
      "cell_type": "code",
      "source": [],
      "metadata": {
        "id": "dsdCGenDywGq"
      },
      "execution_count": null,
      "outputs": []
    }
  ]
}