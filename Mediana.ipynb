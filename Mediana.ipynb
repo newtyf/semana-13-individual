{
  "nbformat": 4,
  "nbformat_minor": 0,
  "metadata": {
    "colab": {
      "provenance": [],
      "authorship_tag": "ABX9TyM0P0iMhfJeGAQo2nzCcund",
      "include_colab_link": true
    },
    "kernelspec": {
      "name": "python3",
      "display_name": "Python 3"
    },
    "language_info": {
      "name": "python"
    }
  },
  "cells": [
    {
      "cell_type": "markdown",
      "metadata": {
        "id": "view-in-github",
        "colab_type": "text"
      },
      "source": [
        "<a href=\"https://colab.research.google.com/github/newtyf/semana-13-individual/blob/master/Mediana.ipynb\" target=\"_parent\"><img src=\"https://colab.research.google.com/assets/colab-badge.svg\" alt=\"Open In Colab\"/></a>"
      ]
    },
    {
      "cell_type": "code",
      "execution_count": 1,
      "metadata": {
        "id": "haUERAQLvJ_t"
      },
      "outputs": [],
      "source": [
        "from pyspark.sql import SparkSession\n",
        "\n",
        "from pyspark.sql.functions import col, expr, mean, corr"
      ]
    },
    {
      "cell_type": "code",
      "source": [
        "spark = SparkSession.builder.appName(\"analisis-red-social\").getOrCreate()"
      ],
      "metadata": {
        "id": "_0WAsHmuvN7L"
      },
      "execution_count": 16,
      "outputs": []
    },
    {
      "cell_type": "code",
      "source": [
        "# Cargamos la informacion de un csv\n",
        "df = spark.read.csv(\"posts-data.csv\", header=True)\n",
        "\n",
        "df = df.withColumn(\"likes_count\",df.likes_count.cast('int'))"
      ],
      "metadata": {
        "id": "hVQtpo0yvRdr"
      },
      "execution_count": 31,
      "outputs": []
    },
    {
      "cell_type": "markdown",
      "source": [
        "# Mediana de likes posts"
      ],
      "metadata": {
        "id": "5J9fXZs2vUOb"
      }
    },
    {
      "cell_type": "code",
      "source": [
        "mediana = df.approxQuantile(\"likes_count\", [0.5], 0.0)"
      ],
      "metadata": {
        "id": "HGl-CJUgvpt6"
      },
      "execution_count": 32,
      "outputs": []
    },
    {
      "cell_type": "code",
      "source": [
        "print(\"La mediana es:\", mediana)"
      ],
      "metadata": {
        "colab": {
          "base_uri": "https://localhost:8080/"
        },
        "id": "D3VCr5dtyZIb",
        "outputId": "ac8260a3-f77a-4364-c5b6-8b1e55635073"
      },
      "execution_count": 33,
      "outputs": [
        {
          "output_type": "stream",
          "name": "stdout",
          "text": [
            "La mediana es: [525.0]\n"
          ]
        }
      ]
    }
  ]
}